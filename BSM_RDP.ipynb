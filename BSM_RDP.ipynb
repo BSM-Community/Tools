{
  "nbformat": 4,
  "nbformat_minor": 0,
  "metadata": {
    "colab": {
      "name": "BSM-RDP.ipynb",
      "provenance": [],
      "machine_shape": "hm",
      "collapsed_sections": [],
      "include_colab_link": true
    },
    "kernelspec": {
      "name": "python3",
      "display_name": "Python 3"
    },
    "language_info": {
      "name": "python"
    }
  },
  "cells": [
    {
      "cell_type": "markdown",
      "metadata": {
        "id": "view-in-github",
        "colab_type": "text"
      },
      "source": [
        "<a href=\"https://colab.research.google.com/github/BSM-Community/Tools/blob/main/BSM_RDP.ipynb\" target=\"_parent\"><img src=\"https://colab.research.google.com/assets/colab-badge.svg\" alt=\"Open In Colab\"/></a>"
      ]
    },
    {
      "cell_type": "code",
      "source": [
        "import os\n",
        "#@title **BSM RDP versi Ammar**\n",
        "#@markdown Remote desktop, Choose one below.\n",
        "RDPNGROK = False #@param {type:'boolean'}\n",
        "RDPChrome = True #@param {type:'boolean'}\n",
        "#@markdown **Donate, To buy a cup of coffee, Thanks**\n",
        "if RDPNGROK:\n",
        "    !wget -O xrdp.sh https://github.com/BSM-Community/Tools/raw/main/NGROK-RDP.sh > /dev/null 2>&1\n",
        "    !chmod +x xrdp.sh\n",
        "    !./xrdp.sh\n",
        "    !echo RDP Address:\n",
        "    !curl --silent --show-error http://127.0.0.1:4040/api/tunnels | sed -nE 's/.*public_url\":\"tcp:..([^\"]*).*/\\1/p'\n",
        "#@markdown BNB-20 : 0x499e5b7e2d4c91c9f393f49e60d0c8c92be05e26\n",
        "if RDPChrome:\n",
        "    !wget -O xrdp.sh https://github.com/BSM-Community/Tools/raw/main/Chrome-RDP.sh > /dev/null 2>&1\n",
        "    !chmod +x xrdp.sh\n",
        "    !./xrdp.sh\n",
        "#@markdown BTC : 1DW4AP9F496LDNPQvPuRKNhJq58DGD8trm"
      ],
      "metadata": {
        "id": "vUfiSYW_LhIi",
        "cellView": "form"
      },
      "execution_count": null,
      "outputs": []
    },
    {
      "cell_type": "code",
      "source": [
        "#@title **Colab Shutdown**\n",
        "\n",
        "#@markdown To Kill NGROK Tunnel\n",
        "NGROK = False #@param {type:'boolean'}\n",
        "\n",
        "#@markdown To Sleep Colab\n",
        "Sleep = True #@param {type:'boolean'}\n",
        "\n",
        "if NGROK:\n",
        "    ! killall ngrok\n",
        "\n",
        "if Sleep:\n",
        "    from time import sleep\n",
        "    sleep(43200)"
      ],
      "metadata": {
        "cellView": "form",
        "id": "ddCE6BFLjnxc"
      },
      "execution_count": null,
      "outputs": []
    }
  ]
}